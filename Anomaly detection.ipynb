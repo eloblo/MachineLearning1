{
 "cells": [
  {
   "cell_type": "markdown",
   "id": "dca6432f",
   "metadata": {},
   "source": [
    "# Anomaly detection \n",
    "## eli belkind 208250431\n",
    "## itamar almog  208196600"
   ]
  },
  {
   "cell_type": "markdown",
   "id": "9952b2fb",
   "metadata": {},
   "source": [
    "the imports for the project:"
   ]
  },
  {
   "cell_type": "code",
   "execution_count": 46,
   "id": "59588e42",
   "metadata": {},
   "outputs": [],
   "source": [
    "import pandas as pa\n",
    "import numpy as np\n",
    "from matplotlib import pyplot as plt  \n",
    "from sklearn.ensemble import IsolationForest\n",
    "import seaborn as sns\n",
    "sns.set()"
   ]
  },
  {
   "cell_type": "markdown",
   "id": "29cb64cc",
   "metadata": {},
   "source": [
    "I combined the anomaly data with its' label data form to get a data form with all the needed values "
   ]
  },
  {
   "cell_type": "code",
   "execution_count": 47,
   "id": "d0d95e42",
   "metadata": {},
   "outputs": [
    {
     "data": {
      "text/html": [
       "<div>\n",
       "<style scoped>\n",
       "    .dataframe tbody tr th:only-of-type {\n",
       "        vertical-align: middle;\n",
       "    }\n",
       "\n",
       "    .dataframe tbody tr th {\n",
       "        vertical-align: top;\n",
       "    }\n",
       "\n",
       "    .dataframe thead th {\n",
       "        text-align: right;\n",
       "    }\n",
       "</style>\n",
       "<table border=\"1\" class=\"dataframe\">\n",
       "  <thead>\n",
       "    <tr style=\"text-align: right;\">\n",
       "      <th></th>\n",
       "      <th>duration</th>\n",
       "      <th>src</th>\n",
       "      <th>dst</th>\n",
       "      <th>type</th>\n",
       "    </tr>\n",
       "  </thead>\n",
       "  <tbody>\n",
       "    <tr>\n",
       "      <th>count</th>\n",
       "      <td>256670.000000</td>\n",
       "      <td>256670.000000</td>\n",
       "      <td>2.566700e+05</td>\n",
       "      <td>256670.000000</td>\n",
       "    </tr>\n",
       "    <tr>\n",
       "      <th>mean</th>\n",
       "      <td>0.640936</td>\n",
       "      <td>474.247898</td>\n",
       "      <td>4.473533e+03</td>\n",
       "      <td>0.003982</td>\n",
       "    </tr>\n",
       "    <tr>\n",
       "      <th>std</th>\n",
       "      <td>15.627170</td>\n",
       "      <td>3391.106084</td>\n",
       "      <td>2.080903e+04</td>\n",
       "      <td>0.062976</td>\n",
       "    </tr>\n",
       "    <tr>\n",
       "      <th>min</th>\n",
       "      <td>0.000000</td>\n",
       "      <td>0.000000</td>\n",
       "      <td>0.000000e+00</td>\n",
       "      <td>0.000000</td>\n",
       "    </tr>\n",
       "    <tr>\n",
       "      <th>25%</th>\n",
       "      <td>0.000000</td>\n",
       "      <td>217.000000</td>\n",
       "      <td>6.600000e+02</td>\n",
       "      <td>0.000000</td>\n",
       "    </tr>\n",
       "    <tr>\n",
       "      <th>50%</th>\n",
       "      <td>0.000000</td>\n",
       "      <td>249.000000</td>\n",
       "      <td>1.661000e+03</td>\n",
       "      <td>0.000000</td>\n",
       "    </tr>\n",
       "    <tr>\n",
       "      <th>75%</th>\n",
       "      <td>0.000000</td>\n",
       "      <td>306.000000</td>\n",
       "      <td>4.341000e+03</td>\n",
       "      <td>0.000000</td>\n",
       "    </tr>\n",
       "    <tr>\n",
       "      <th>max</th>\n",
       "      <td>3289.000000</td>\n",
       "      <td>54540.000000</td>\n",
       "      <td>7.068759e+06</td>\n",
       "      <td>1.000000</td>\n",
       "    </tr>\n",
       "  </tbody>\n",
       "</table>\n",
       "</div>"
      ],
      "text/plain": [
       "            duration            src           dst           type\n",
       "count  256670.000000  256670.000000  2.566700e+05  256670.000000\n",
       "mean        0.640936     474.247898  4.473533e+03       0.003982\n",
       "std        15.627170    3391.106084  2.080903e+04       0.062976\n",
       "min         0.000000       0.000000  0.000000e+00       0.000000\n",
       "25%         0.000000     217.000000  6.600000e+02       0.000000\n",
       "50%         0.000000     249.000000  1.661000e+03       0.000000\n",
       "75%         0.000000     306.000000  4.341000e+03       0.000000\n",
       "max      3289.000000   54540.000000  7.068759e+06       1.000000"
      ]
     },
     "execution_count": 47,
     "metadata": {},
     "output_type": "execute_result"
    }
   ],
   "source": [
    "data_file = 'C:/Users/elobl/PycharmProjects/anomaly/conn250K.csv'\n",
    "correction_file = 'C:/Users/elobl/PycharmProjects/anomaly/conn250K_anomaly.csv'\n",
    "expected = pa.read_csv(correction_file, names=['id','type'])\n",
    "data = pa.read_csv(data_file, names=['id','duration','src','dst'])\n",
    "df = data.set_index('id').join(expected.set_index('id'))\n",
    "df.describe()"
   ]
  },
  {
   "cell_type": "code",
   "execution_count": 48,
   "id": "63084265",
   "metadata": {},
   "outputs": [
    {
     "data": {
      "text/html": [
       "<div>\n",
       "<style scoped>\n",
       "    .dataframe tbody tr th:only-of-type {\n",
       "        vertical-align: middle;\n",
       "    }\n",
       "\n",
       "    .dataframe tbody tr th {\n",
       "        vertical-align: top;\n",
       "    }\n",
       "\n",
       "    .dataframe thead th {\n",
       "        text-align: right;\n",
       "    }\n",
       "</style>\n",
       "<table border=\"1\" class=\"dataframe\">\n",
       "  <thead>\n",
       "    <tr style=\"text-align: right;\">\n",
       "      <th></th>\n",
       "      <th>duration</th>\n",
       "      <th>src</th>\n",
       "      <th>dst</th>\n",
       "      <th>type</th>\n",
       "    </tr>\n",
       "  </thead>\n",
       "  <tbody>\n",
       "    <tr>\n",
       "      <th>count</th>\n",
       "      <td>1022.000000</td>\n",
       "      <td>1022.000000</td>\n",
       "      <td>1022.000000</td>\n",
       "      <td>1022.0</td>\n",
       "    </tr>\n",
       "    <tr>\n",
       "      <th>mean</th>\n",
       "      <td>0.165362</td>\n",
       "      <td>53830.551859</td>\n",
       "      <td>8186.319961</td>\n",
       "      <td>1.0</td>\n",
       "    </tr>\n",
       "    <tr>\n",
       "      <th>std</th>\n",
       "      <td>1.298328</td>\n",
       "      <td>5024.887083</td>\n",
       "      <td>791.334919</td>\n",
       "      <td>0.0</td>\n",
       "    </tr>\n",
       "    <tr>\n",
       "      <th>min</th>\n",
       "      <td>0.000000</td>\n",
       "      <td>0.000000</td>\n",
       "      <td>0.000000</td>\n",
       "      <td>1.0</td>\n",
       "    </tr>\n",
       "    <tr>\n",
       "      <th>25%</th>\n",
       "      <td>0.000000</td>\n",
       "      <td>54540.000000</td>\n",
       "      <td>8314.000000</td>\n",
       "      <td>1.0</td>\n",
       "    </tr>\n",
       "    <tr>\n",
       "      <th>50%</th>\n",
       "      <td>0.000000</td>\n",
       "      <td>54540.000000</td>\n",
       "      <td>8314.000000</td>\n",
       "      <td>1.0</td>\n",
       "    </tr>\n",
       "    <tr>\n",
       "      <th>75%</th>\n",
       "      <td>0.000000</td>\n",
       "      <td>54540.000000</td>\n",
       "      <td>8314.000000</td>\n",
       "      <td>1.0</td>\n",
       "    </tr>\n",
       "    <tr>\n",
       "      <th>max</th>\n",
       "      <td>14.000000</td>\n",
       "      <td>54540.000000</td>\n",
       "      <td>8315.000000</td>\n",
       "      <td>1.0</td>\n",
       "    </tr>\n",
       "  </tbody>\n",
       "</table>\n",
       "</div>"
      ],
      "text/plain": [
       "          duration           src          dst    type\n",
       "count  1022.000000   1022.000000  1022.000000  1022.0\n",
       "mean      0.165362  53830.551859  8186.319961     1.0\n",
       "std       1.298328   5024.887083   791.334919     0.0\n",
       "min       0.000000      0.000000     0.000000     1.0\n",
       "25%       0.000000  54540.000000  8314.000000     1.0\n",
       "50%       0.000000  54540.000000  8314.000000     1.0\n",
       "75%       0.000000  54540.000000  8314.000000     1.0\n",
       "max      14.000000  54540.000000  8315.000000     1.0"
      ]
     },
     "execution_count": 48,
     "metadata": {},
     "output_type": "execute_result"
    }
   ],
   "source": [
    "df[df['type'] == 1].describe()"
   ]
  },
  {
   "cell_type": "code",
   "execution_count": 49,
   "id": "21b07075",
   "metadata": {},
   "outputs": [
    {
     "data": {
      "text/html": [
       "<div>\n",
       "<style scoped>\n",
       "    .dataframe tbody tr th:only-of-type {\n",
       "        vertical-align: middle;\n",
       "    }\n",
       "\n",
       "    .dataframe tbody tr th {\n",
       "        vertical-align: top;\n",
       "    }\n",
       "\n",
       "    .dataframe thead th {\n",
       "        text-align: right;\n",
       "    }\n",
       "</style>\n",
       "<table border=\"1\" class=\"dataframe\">\n",
       "  <thead>\n",
       "    <tr style=\"text-align: right;\">\n",
       "      <th></th>\n",
       "      <th>duration</th>\n",
       "      <th>src</th>\n",
       "      <th>dst</th>\n",
       "      <th>type</th>\n",
       "    </tr>\n",
       "  </thead>\n",
       "  <tbody>\n",
       "    <tr>\n",
       "      <th>count</th>\n",
       "      <td>255648.000000</td>\n",
       "      <td>255648.000000</td>\n",
       "      <td>2.556480e+05</td>\n",
       "      <td>255648.0</td>\n",
       "    </tr>\n",
       "    <tr>\n",
       "      <th>mean</th>\n",
       "      <td>0.642837</td>\n",
       "      <td>260.946239</td>\n",
       "      <td>4.458690e+03</td>\n",
       "      <td>0.0</td>\n",
       "    </tr>\n",
       "    <tr>\n",
       "      <th>std</th>\n",
       "      <td>15.658131</td>\n",
       "      <td>134.910464</td>\n",
       "      <td>2.084920e+04</td>\n",
       "      <td>0.0</td>\n",
       "    </tr>\n",
       "    <tr>\n",
       "      <th>min</th>\n",
       "      <td>0.000000</td>\n",
       "      <td>0.000000</td>\n",
       "      <td>0.000000e+00</td>\n",
       "      <td>0.0</td>\n",
       "    </tr>\n",
       "    <tr>\n",
       "      <th>25%</th>\n",
       "      <td>0.000000</td>\n",
       "      <td>217.000000</td>\n",
       "      <td>6.590000e+02</td>\n",
       "      <td>0.0</td>\n",
       "    </tr>\n",
       "    <tr>\n",
       "      <th>50%</th>\n",
       "      <td>0.000000</td>\n",
       "      <td>249.000000</td>\n",
       "      <td>1.651000e+03</td>\n",
       "      <td>0.0</td>\n",
       "    </tr>\n",
       "    <tr>\n",
       "      <th>75%</th>\n",
       "      <td>0.000000</td>\n",
       "      <td>306.000000</td>\n",
       "      <td>4.256000e+03</td>\n",
       "      <td>0.0</td>\n",
       "    </tr>\n",
       "    <tr>\n",
       "      <th>max</th>\n",
       "      <td>3289.000000</td>\n",
       "      <td>54540.000000</td>\n",
       "      <td>7.068759e+06</td>\n",
       "      <td>0.0</td>\n",
       "    </tr>\n",
       "  </tbody>\n",
       "</table>\n",
       "</div>"
      ],
      "text/plain": [
       "            duration            src           dst      type\n",
       "count  255648.000000  255648.000000  2.556480e+05  255648.0\n",
       "mean        0.642837     260.946239  4.458690e+03       0.0\n",
       "std        15.658131     134.910464  2.084920e+04       0.0\n",
       "min         0.000000       0.000000  0.000000e+00       0.0\n",
       "25%         0.000000     217.000000  6.590000e+02       0.0\n",
       "50%         0.000000     249.000000  1.651000e+03       0.0\n",
       "75%         0.000000     306.000000  4.256000e+03       0.0\n",
       "max      3289.000000   54540.000000  7.068759e+06       0.0"
      ]
     },
     "execution_count": 49,
     "metadata": {},
     "output_type": "execute_result"
    }
   ],
   "source": [
    "norm = df[df['type'] == 0]\n",
    "norm.describe()"
   ]
  },
  {
   "cell_type": "markdown",
   "id": "320b7f93",
   "metadata": {},
   "source": [
    "from the descriptions, it can be seen that the anomalic point tend to gravitate to specific values and regions compared\n",
    "to normal points.\n",
    "the destination bytes mostly clump around the 8000 mark.\n",
    "the src bytes tend to clump around 50000 make.\n",
    "the duration tend to low on avarege but it is seem that this feature alone is gives little indication\n",
    "of an anomaly because of his spread, it is likly that the duration has some coralation with the other features\n",
    "for finding anomalies or his effect on anomly finding is very minimal."
   ]
  },
  {
   "cell_type": "code",
   "execution_count": 25,
   "id": "4d36b2a0",
   "metadata": {},
   "outputs": [
    {
     "name": "stderr",
     "output_type": "stream",
     "text": [
      "*c* argument looks like a single numeric RGB or RGBA sequence, which should be avoided as value-mapping will have precedence in case its length matches with *x* & *y*.  Please use the *color* keyword-argument or provide a 2D array with a single row if you intend to specify the same RGB or RGBA value for all points.\n"
     ]
    },
    {
     "data": {
      "text/plain": [
       "<AxesSubplot:xlabel='duration', ylabel='src'>"
      ]
     },
     "execution_count": 25,
     "metadata": {},
     "output_type": "execute_result"
    },
    {
     "data": {
      "image/png": "[encoded data removed]",
      "text/plain": [
       "<Figure size 432x288 with 1 Axes>"
      ]
     },
     "metadata": {},
     "output_type": "display_data"
    }
   ],
   "source": [
    "graph = pa.concat([norm['duration'], norm['src']], axis=1)\n",
    "graph.plot.scatter(x='duration', y='src')"
   ]
  },
  {
   "cell_type": "code",
   "execution_count": 26,
   "id": "006ba965",
   "metadata": {},
   "outputs": [
    {
     "name": "stderr",
     "output_type": "stream",
     "text": [
      "*c* argument looks like a single numeric RGB or RGBA sequence, which should be avoided as value-mapping will have precedence in case its length matches with *x* & *y*.  Please use the *color* keyword-argument or provide a 2D array with a single row if you intend to specify the same RGB or RGBA value for all points.\n"
     ]
    },
    {
     "data": {
      "text/plain": [
       "<AxesSubplot:xlabel='duration', ylabel='src'>"
      ]
     },
     "execution_count": 26,
     "metadata": {},
     "output_type": "execute_result"
    },
    {
     "data": {
      "image/png": "[encoded data removed]",
      "text/plain": [
       "<Figure size 432x288 with 1 Axes>"
      ]
     },
     "metadata": {},
     "output_type": "display_data"
    }
   ],
   "source": [
    "anom = df[df['type'] == 1]\n",
    "graph = pa.concat([anom['duration'], anom['src']], axis=1)\n",
    "graph.plot.scatter(x='duration', y='src')"
   ]
  },
  {
   "cell_type": "code",
   "execution_count": 27,
   "id": "06f19bd0",
   "metadata": {},
   "outputs": [
    {
     "name": "stderr",
     "output_type": "stream",
     "text": [
      "*c* argument looks like a single numeric RGB or RGBA sequence, which should be avoided as value-mapping will have precedence in case its length matches with *x* & *y*.  Please use the *color* keyword-argument or provide a 2D array with a single row if you intend to specify the same RGB or RGBA value for all points.\n"
     ]
    },
    {
     "data": {
      "text/plain": [
       "<AxesSubplot:xlabel='duration', ylabel='dst'>"
      ]
     },
     "execution_count": 27,
     "metadata": {},
     "output_type": "execute_result"
    },
    {
     "data": {
      "image/png": "[encoded data removed]",
      "text/plain": [
       "<Figure size 432x288 with 1 Axes>"
      ]
     },
     "metadata": {},
     "output_type": "display_data"
    }
   ],
   "source": [
    "graph = pa.concat([norm['duration'], norm['dst']], axis=1)\n",
    "graph.plot.scatter(x='duration', y='dst', ylim=(0,710000))"
   ]
  },
  {
   "cell_type": "code",
   "execution_count": 28,
   "id": "febc2ae5",
   "metadata": {},
   "outputs": [
    {
     "name": "stderr",
     "output_type": "stream",
     "text": [
      "*c* argument looks like a single numeric RGB or RGBA sequence, which should be avoided as value-mapping will have precedence in case its length matches with *x* & *y*.  Please use the *color* keyword-argument or provide a 2D array with a single row if you intend to specify the same RGB or RGBA value for all points.\n"
     ]
    },
    {
     "data": {
      "text/plain": [
       "<AxesSubplot:xlabel='duration', ylabel='dst'>"
      ]
     },
     "execution_count": 28,
     "metadata": {},
     "output_type": "execute_result"
    },
    {
     "data": {
      "image/png": "[encoded data removed]",
      "text/plain": [
       "<Figure size 432x288 with 1 Axes>"
      ]
     },
     "metadata": {},
     "output_type": "display_data"
    }
   ],
   "source": [
    "graph = pa.concat([anom['duration'], anom['dst']], axis=1)\n",
    "graph.plot.scatter(x='duration', y='dst')"
   ]
  },
  {
   "cell_type": "code",
   "execution_count": 29,
   "id": "b51b8fcb",
   "metadata": {},
   "outputs": [
    {
     "name": "stderr",
     "output_type": "stream",
     "text": [
      "*c* argument looks like a single numeric RGB or RGBA sequence, which should be avoided as value-mapping will have precedence in case its length matches with *x* & *y*.  Please use the *color* keyword-argument or provide a 2D array with a single row if you intend to specify the same RGB or RGBA value for all points.\n"
     ]
    },
    {
     "data": {
      "text/plain": [
       "<AxesSubplot:xlabel='src', ylabel='dst'>"
      ]
     },
     "execution_count": 29,
     "metadata": {},
     "output_type": "execute_result"
    },
    {
     "data": {
      "image/png": "[encoded data removed]",
      "text/plain": [
       "<Figure size 432x288 with 1 Axes>"
      ]
     },
     "metadata": {},
     "output_type": "display_data"
    }
   ],
   "source": [
    "graph = pa.concat([norm['src'], norm['dst']], axis=1)\n",
    "graph.plot.scatter(x='src', y='dst', ylim=(0,710000))"
   ]
  },
  {
   "cell_type": "code",
   "execution_count": 30,
   "id": "3d5d47cc",
   "metadata": {},
   "outputs": [
    {
     "name": "stderr",
     "output_type": "stream",
     "text": [
      "*c* argument looks like a single numeric RGB or RGBA sequence, which should be avoided as value-mapping will have precedence in case its length matches with *x* & *y*.  Please use the *color* keyword-argument or provide a 2D array with a single row if you intend to specify the same RGB or RGBA value for all points.\n"
     ]
    },
    {
     "data": {
      "text/plain": [
       "<AxesSubplot:xlabel='src', ylabel='dst'>"
      ]
     },
     "execution_count": 30,
     "metadata": {},
     "output_type": "execute_result"
    },
    {
     "data": {
      "image/png": "[encoded data removed]",
      "text/plain": [
       "<Figure size 432x288 with 1 Axes>"
      ]
     },
     "metadata": {},
     "output_type": "display_data"
    }
   ],
   "source": [
    "graph = pa.concat([anom['src'], anom['dst']], axis=1)\n",
    "graph.plot.scatter(x='src', y='dst')"
   ]
  },
  {
   "cell_type": "code",
   "execution_count": 31,
   "id": "7d86fe73",
   "metadata": {},
   "outputs": [
    {
     "data": {
      "text/plain": [
       "<AxesSubplot:>"
      ]
     },
     "execution_count": 31,
     "metadata": {},
     "output_type": "execute_result"
    },
    {
     "data": {
      "image/png": "[encoded data removed]",
      "text/plain": [
       "<Figure size 432x288 with 1 Axes>"
      ]
     },
     "metadata": {},
     "output_type": "display_data"
    }
   ],
   "source": [
    "data['duration'].plot(kind='box')"
   ]
  },
  {
   "cell_type": "code",
   "execution_count": 32,
   "id": "344db068",
   "metadata": {},
   "outputs": [
    {
     "data": {
      "text/plain": [
       "<AxesSubplot:>"
      ]
     },
     "execution_count": 32,
     "metadata": {},
     "output_type": "execute_result"
    },
    {
     "data": {
      "image/png": "[encoded data removed]",
      "text/plain": [
       "<Figure size 432x288 with 1 Axes>"
      ]
     },
     "metadata": {},
     "output_type": "display_data"
    }
   ],
   "source": [
    "data['src'].plot(kind='box')"
   ]
  },
  {
   "cell_type": "code",
   "execution_count": 33,
   "id": "ae4a7690",
   "metadata": {},
   "outputs": [
    {
     "data": {
      "text/plain": [
       "<AxesSubplot:>"
      ]
     },
     "execution_count": 33,
     "metadata": {},
     "output_type": "execute_result"
    },
    {
     "data": {
      "image/png": "[encoded data removed]",
      "text/plain": [
       "<Figure size 432x288 with 1 Axes>"
      ]
     },
     "metadata": {},
     "output_type": "display_data"
    }
   ],
   "source": [
    "data['dst'].plot(kind='box')"
   ]
  },
  {
   "cell_type": "markdown",
   "id": "5dc9230c",
   "metadata": {},
   "source": [
    "from the graphs we infered that high src byte has the best cororaltion to being an anomaly,\n",
    "with src to duration graph is able to single out anomilies in the high right corner of the graphs."
   ]
  },
  {
   "cell_type": "code",
   "execution_count": 15,
   "id": "b9cec55d",
   "metadata": {},
   "outputs": [
    {
     "name": "stdout",
     "output_type": "stream",
     "text": [
      "126 1\n"
     ]
    }
   ],
   "source": [
    "print(len(df[(df['duration'] == 0) & (df['dst'] == 0) & (df['src'] == 0) & (df['type'] == 0)]),\n",
    "len(df[(df['duration'] == 0) & (df['dst'] == 0) & (df['src'] == 0) & (df['type'] == 1)]))"
   ]
  },
  {
   "cell_type": "markdown",
   "id": "c68d0d48",
   "metadata": {},
   "source": [
    "in the anomilal graphs i noticed a point located in 0,0,0, whitch is a strange value for a point.\n",
    "after investigation it is seem that there are a lot of point in the same location whitch are normal.\n",
    "i took this inconsidiration as if the machine learning algorithm will desingante them as normal\n",
    "it will be imposible to determine this one anominal point and future points as anominal with out additinal features."
   ]
  },
  {
   "cell_type": "code",
   "execution_count": 34,
   "id": "ca947ddf",
   "metadata": {},
   "outputs": [],
   "source": [
    "df_array = np.array(df)\n",
    "df_calc = df_array[:,[0,1,2]]"
   ]
  },
  {
   "cell_type": "markdown",
   "id": "77a17393",
   "metadata": {},
   "source": [
    "for this project we will be using isolation forest for its' high precision rates and robust nature\n",
    "compared to other known machine learning algorithms.\n",
    "as we know the amount of anomalies we can use an optimal value for the contamination variable for this algorithm."
   ]
  },
  {
   "cell_type": "code",
   "execution_count": 35,
   "id": "f31eee22",
   "metadata": {},
   "outputs": [
    {
     "data": {
      "text/html": [
       "<div>\n",
       "<style scoped>\n",
       "    .dataframe tbody tr th:only-of-type {\n",
       "        vertical-align: middle;\n",
       "    }\n",
       "\n",
       "    .dataframe tbody tr th {\n",
       "        vertical-align: top;\n",
       "    }\n",
       "\n",
       "    .dataframe thead th {\n",
       "        text-align: right;\n",
       "    }\n",
       "</style>\n",
       "<table border=\"1\" class=\"dataframe\">\n",
       "  <thead>\n",
       "    <tr style=\"text-align: right;\">\n",
       "      <th></th>\n",
       "      <th>duration</th>\n",
       "      <th>src</th>\n",
       "      <th>dst</th>\n",
       "      <th>type</th>\n",
       "    </tr>\n",
       "    <tr>\n",
       "      <th>id</th>\n",
       "      <th></th>\n",
       "      <th></th>\n",
       "      <th></th>\n",
       "      <th></th>\n",
       "    </tr>\n",
       "  </thead>\n",
       "  <tbody>\n",
       "    <tr>\n",
       "      <th>1302</th>\n",
       "      <td>0</td>\n",
       "      <td>166</td>\n",
       "      <td>265995</td>\n",
       "      <td>0</td>\n",
       "    </tr>\n",
       "    <tr>\n",
       "      <th>1315</th>\n",
       "      <td>0</td>\n",
       "      <td>150</td>\n",
       "      <td>265995</td>\n",
       "      <td>0</td>\n",
       "    </tr>\n",
       "    <tr>\n",
       "      <th>26041</th>\n",
       "      <td>0</td>\n",
       "      <td>516</td>\n",
       "      <td>53744</td>\n",
       "      <td>0</td>\n",
       "    </tr>\n",
       "    <tr>\n",
       "      <th>28111</th>\n",
       "      <td>0</td>\n",
       "      <td>161</td>\n",
       "      <td>142716</td>\n",
       "      <td>0</td>\n",
       "    </tr>\n",
       "    <tr>\n",
       "      <th>36440</th>\n",
       "      <td>0</td>\n",
       "      <td>178</td>\n",
       "      <td>171136</td>\n",
       "      <td>0</td>\n",
       "    </tr>\n",
       "    <tr>\n",
       "      <th>...</th>\n",
       "      <td>...</td>\n",
       "      <td>...</td>\n",
       "      <td>...</td>\n",
       "      <td>...</td>\n",
       "    </tr>\n",
       "    <tr>\n",
       "      <th>239775</th>\n",
       "      <td>0</td>\n",
       "      <td>339</td>\n",
       "      <td>197192</td>\n",
       "      <td>0</td>\n",
       "    </tr>\n",
       "    <tr>\n",
       "      <th>242459</th>\n",
       "      <td>0</td>\n",
       "      <td>194</td>\n",
       "      <td>269232</td>\n",
       "      <td>0</td>\n",
       "    </tr>\n",
       "    <tr>\n",
       "      <th>246160</th>\n",
       "      <td>0</td>\n",
       "      <td>179</td>\n",
       "      <td>273544</td>\n",
       "      <td>0</td>\n",
       "    </tr>\n",
       "    <tr>\n",
       "      <th>246221</th>\n",
       "      <td>0</td>\n",
       "      <td>179</td>\n",
       "      <td>273544</td>\n",
       "      <td>0</td>\n",
       "    </tr>\n",
       "    <tr>\n",
       "      <th>255999</th>\n",
       "      <td>715</td>\n",
       "      <td>416</td>\n",
       "      <td>538</td>\n",
       "      <td>0</td>\n",
       "    </tr>\n",
       "  </tbody>\n",
       "</table>\n",
       "<p>1053 rows × 4 columns</p>\n",
       "</div>"
      ],
      "text/plain": [
       "        duration  src     dst  type\n",
       "id                                 \n",
       "1302           0  166  265995     0\n",
       "1315           0  150  265995     0\n",
       "26041          0  516   53744     0\n",
       "28111          0  161  142716     0\n",
       "36440          0  178  171136     0\n",
       "...          ...  ...     ...   ...\n",
       "239775         0  339  197192     0\n",
       "242459         0  194  269232     0\n",
       "246160         0  179  273544     0\n",
       "246221         0  179  273544     0\n",
       "255999       715  416     538     0\n",
       "\n",
       "[1053 rows x 4 columns]"
      ]
     },
     "execution_count": 35,
     "metadata": {},
     "output_type": "execute_result"
    }
   ],
   "source": [
    "def predict(df_calc):\n",
    "    iso_forest = IsolationForest(n_estimators=300, contamination=0.0041)\n",
    "    iso_forest = iso_forest.fit(df_calc)\n",
    "    return iso_forest.predict(df_calc)\n",
    "iso_forest_values = predict(df_calc)\n",
    "df[iso_forest_values == -1]"
   ]
  },
  {
   "cell_type": "code",
   "execution_count": 36,
   "id": "e814bf16",
   "metadata": {},
   "outputs": [
    {
     "name": "stdout",
     "output_type": "stream",
     "text": [
      "(0.9996298749366891, 0.9401709401709402, 0.9686888454011742)\n"
     ]
    }
   ],
   "source": [
    "def result(df, isof_outliers):\n",
    "    tp = 0\n",
    "    fp = 0\n",
    "    tn = 0\n",
    "    fn = 0\n",
    "    for i, line in df[isof_outliers==-1].iterrows():\n",
    "        if line['type'] == 1:\n",
    "            tp = tp + 1\n",
    "        else:\n",
    "            fp = fp + 1\n",
    "    for i, line in df[isof_outliers!=-1].iterrows():\n",
    "        if line['type'] == 0:\n",
    "            tn = tn + 1\n",
    "        else:\n",
    "            fn = fn + 1\n",
    "    accuracy = (tp + tn) / len(df)\n",
    "    precision = tp / (tp + fp)\n",
    "    recall = tp / (tp + fn)\n",
    "    return accuracy, precision, recall\n",
    "print(result(df, iso_forest_values))"
   ]
  },
  {
   "cell_type": "raw",
   "id": "481bba2d",
   "metadata": {},
   "source": [
    "after testing the algorithm we recive a good amount of correction values.\n",
    "most of them are in the 90% and above, but because of the random nature of\n",
    "the algorithm it was possible to get extreamly low correction values, even if rare.\n",
    "best result: 0.9996883157361592 0.9477186311787072 0.9755381604696673\n",
    "wrost result: 0.9954883702809054 0.08536585365853659 0.0136986301369863\n",
    "because of this we modified the algorithm to enhance our correction values and eliminate bad predictions."
   ]
  },
  {
   "cell_type": "code",
   "execution_count": 38,
   "id": "cc718086",
   "metadata": {},
   "outputs": [],
   "source": [
    "def multi_predict(runs, df_calc, expected):\n",
    "    if runs == 1:\n",
    "        return result(df, predict(df_calc))\n",
    "    anomalies = pa.read_csv(correction_file, names=['id','type'])\n",
    "    for i in range(0, len(anomalies)):\n",
    "        anomalies.iloc[i][1] = 0\n",
    "    for i in range(0,runs):\n",
    "        isof_outliers = predict(df_calc)\n",
    "        for i in anomalies[isof_outliers==-1].index:\n",
    "            anomalies.iloc[i]['type'] = anomalies.iloc[i]['type'] + 1\n",
    "    tp = 0\n",
    "    fp = 0\n",
    "    tn = 0\n",
    "    fn = 0    \n",
    "    for i in range(0, len(expected)):\n",
    "        if anomalies.iloc[i]['type'] > runs*0.7:\n",
    "            if expected.iloc[i]['type'] == 1:\n",
    "                tp = tp + 1\n",
    "            else:\n",
    "                fp = fp + 1\n",
    "        else:\n",
    "            if expected.iloc[i]['type'] == 0:\n",
    "                tn = tn + 1\n",
    "            else:\n",
    "                fn = fn + 1\n",
    "    accuracy = (tp + tn) / len(df)\n",
    "    precision = tp / (tp + fp)\n",
    "    recall = tp / (tp + fn)\n",
    "    return accuracy, precision, recall\n",
    "print(multi_predict(10, df_calc, expected))"
   ]
  },
  {
   "cell_type": "raw",
   "id": "1e2987b0",
   "metadata": {},
   "source": [
    "the new algorithm will run the isolation forest multiple time in order to minimize effect of bad predictions\n",
    "and the algorithm will label a point as anominal only if it is labled as such multiple times.\n",
    "(recomended runs amount is 3 and higher)\n",
    "from our test we increased dramaticlly the minimal correction values and even increased the high correction values.\n",
    "the increase is always higher than the avarage predictions of every run of isolation forest in the function.\n",
    "best result: 0.9997311723224374, 0.9648780487804878, 0.9677103718199609\n",
    "wrost result: 0.999598706510305 0.938872970391595 0.961839530332681"
   ]
  },
  {
   "cell_type": "code",
   "execution_count": 20,
   "id": "66533197",
   "metadata": {},
   "outputs": [
    {
     "name": "stdout",
     "output_type": "stream",
     "text": [
      "(0.9998675341878677, 0.9731800766283525, 0.9941291585127201)\n"
     ]
    }
   ],
   "source": [
    "df_calc = df_array[:,[0,1]]\n",
    "print(multi_predict(10, df_calc, expected))"
   ]
  },
  {
   "cell_type": "raw",
   "id": "80257b1a",
   "metadata": {},
   "source": [
    "After finding an optinal prediction algorithm, we implemented our observation of the given data,\n",
    "that being that duration to src byte ration has the best indecation for anomalies.\n",
    "from the our test removing dst bytes feature increased our precision up to 97.5% and recall to 99%.\n",
    "best result: 0.9998714302411656, 0.9750240153698367, 0.9931506849315068\n",
    "wrost result: 0.9998480539213777, 0.9685414680648237, 0.9941291585127201"
   ]
  },
  {
   "cell_type": "markdown",
   "id": "b03b052d",
   "metadata": {},
   "source": [
    "# Answers"
   ]
  },
  {
   "cell_type": "raw",
   "id": "76981953",
   "metadata": {},
   "source": [
    "1) from our research we discover the areas where anomalies are usualy found are usualy with high src byte value,\n",
    "low but not zero duration value and that they usualy have a 4000 to 8300 dst byte value.\n",
    "in addition the ration between src byte to duration has the best indictaion for bring an anomaly\n",
    "in our chosen algorithm of isloation forest, while duration had a negetive effect on the process.\n",
    "\n",
    "2) good algorithms for this project are algorithm that can discover outliners from the normal data structure,\n",
    "in addition the algorithms need to handle at least 3 features, for example DBSCAN and isolation forest.\n",
    "\n",
    "3) a) we tried to compare the data we have on the anomolies from the normal data and find paterns that can help\n",
    "in seperating the two groups, espcialy patterns in the normal data base so we could might add features\n",
    "that corrolate with those structures. In addition we looked for strange values that can evade our alogorithm\n",
    "because of their position inside normal data, for example in 0,0,0 that has an anomaly and another 126 normal points.\n",
    "we tried to expirament with different unsupervised algorithms and fine tune their parameters for maximum precision.\n",
    "\n",
    "b) our chosen algorithm of a modfied isolation forest worked best out of our attempts. \n",
    "the algorithm returned the best confusion metrics of average 99% accuracy 97% precision and 99% recall.\n",
    "in addtion we checked each amount of true positive and false negetive to make sure that the total amount is 1022\n",
    "as the data set of the anomalies shows us."
   ]
  }
 ],
 "metadata": {
  "kernelspec": {
   "display_name": "Python 3 (ipykernel)",
   "language": "python",
   "name": "python3"
  },
  "language_info": {
   "codemirror_mode": {
    "name": "ipython",
    "version": 3
   },
   "file_extension": ".py",
   "mimetype": "text/x-python",
   "name": "python",
   "nbconvert_exporter": "python",
   "pygments_lexer": "ipython3",
   "version": "3.9.6"
  }
 },
 "nbformat": 4,
 "nbformat_minor": 5
}
